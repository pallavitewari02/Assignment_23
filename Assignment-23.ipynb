{
 "cells": [
  {
   "cell_type": "code",
   "execution_count": null,
   "id": "8cce705b",
   "metadata": {},
   "outputs": [],
   "source": [
    "1.What is the result of the code, and why?"
   ]
  },
  {
   "cell_type": "code",
   "execution_count": 1,
   "id": "aa7f22b0",
   "metadata": {},
   "outputs": [],
   "source": [
    "def func(a,b=6,c=8):\n",
    "    print(a,b,c)"
   ]
  },
  {
   "cell_type": "code",
   "execution_count": 2,
   "id": "8fd24ed1",
   "metadata": {},
   "outputs": [
    {
     "name": "stdout",
     "output_type": "stream",
     "text": [
      "1 2 8\n"
     ]
    }
   ],
   "source": [
    "func(1,2)"
   ]
  },
  {
   "cell_type": "code",
   "execution_count": null,
   "id": "2ad72ecf",
   "metadata": {},
   "outputs": [],
   "source": [
    "The reason of this result is that though the no. of arguments \n",
    "given at the time of function call is less than that of given at \n",
    "the time of function declaration,it takes the value of a as 1,value \n",
    "of b is changed from 6 to 2 & value of c is 8 already."
   ]
  },
  {
   "cell_type": "code",
   "execution_count": null,
   "id": "c4d25fd9",
   "metadata": {},
   "outputs": [],
   "source": [
    "2.What is the result of the code, and why?"
   ]
  },
  {
   "cell_type": "code",
   "execution_count": null,
   "id": "aa8e96e5",
   "metadata": {},
   "outputs": [],
   "source": [
    "def func(a,b,c=5):\n",
    "    print(a,b,c)"
   ]
  },
  {
   "cell_type": "code",
   "execution_count": 3,
   "id": "7be28f29",
   "metadata": {},
   "outputs": [
    {
     "name": "stdout",
     "output_type": "stream",
     "text": [
      "1 2 3\n"
     ]
    }
   ],
   "source": [
    "func(1,c=3,b=2)"
   ]
  },
  {
   "cell_type": "code",
   "execution_count": null,
   "id": "b7b42f96",
   "metadata": {},
   "outputs": [],
   "source": [
    "The reason for this output is that first thing is that order \n",
    "of arguments at the time of function call does not matter. \n",
    "Secondly func(1,c=3,b=2) assigns a=1,b=2 & c=3(new value)"
   ]
  },
  {
   "cell_type": "code",
   "execution_count": null,
   "id": "1d88871e",
   "metadata": {},
   "outputs": [],
   "source": [
    "3. How about this code:what is the result, and why?"
   ]
  },
  {
   "cell_type": "code",
   "execution_count": 4,
   "id": "abb246df",
   "metadata": {},
   "outputs": [],
   "source": [
    "def func(a,*pargs):\n",
    "    print(a,pargs)"
   ]
  },
  {
   "cell_type": "code",
   "execution_count": 5,
   "id": "03e49ed7",
   "metadata": {},
   "outputs": [
    {
     "name": "stdout",
     "output_type": "stream",
     "text": [
      "1 (2, 3)\n"
     ]
    }
   ],
   "source": [
    "func(1,2,3)"
   ]
  },
  {
   "cell_type": "code",
   "execution_count": null,
   "id": "c08a2820",
   "metadata": {},
   "outputs": [],
   "source": [
    "The reason of this result is because if we are unsure about how many\n",
    "arguments will be passed at the time of  function call,we use *. And it returns \n",
    "tuple of arguments passed apart from the other arguments. So, here a gives value 1 \n",
    "& pargs returns a tuple value of 2& 3.\n"
   ]
  },
  {
   "cell_type": "code",
   "execution_count": null,
   "id": "1e7f0177",
   "metadata": {},
   "outputs": [],
   "source": [
    "4.What does this code print, and why?"
   ]
  },
  {
   "cell_type": "code",
   "execution_count": 6,
   "id": "c4182d64",
   "metadata": {},
   "outputs": [],
   "source": [
    "def func(a,**kargs):\n",
    "    print(a,kargs)"
   ]
  },
  {
   "cell_type": "code",
   "execution_count": 7,
   "id": "fb58cd51",
   "metadata": {},
   "outputs": [
    {
     "name": "stdout",
     "output_type": "stream",
     "text": [
      "1 {'c': 3, 'b': 2}\n"
     ]
    }
   ],
   "source": [
    "func(a=1,c=3,b=2)"
   ]
  },
  {
   "cell_type": "code",
   "execution_count": null,
   "id": "775558ef",
   "metadata": {},
   "outputs": [],
   "source": [
    "**kargs returns a dictionay value apart from the other argument.\n",
    "so,a=1 & b,c are retured as dictionary value."
   ]
  },
  {
   "cell_type": "code",
   "execution_count": null,
   "id": "c02d9a13",
   "metadata": {},
   "outputs": [],
   "source": [
    "5.What gets printed by this & explain?"
   ]
  },
  {
   "cell_type": "code",
   "execution_count": 8,
   "id": "a6d297c4",
   "metadata": {},
   "outputs": [],
   "source": [
    "def func(a,b,c=8,d=5):\n",
    "    print(a,b,c,d)\n",
    "    "
   ]
  },
  {
   "cell_type": "code",
   "execution_count": 9,
   "id": "60e1cf85",
   "metadata": {},
   "outputs": [
    {
     "name": "stdout",
     "output_type": "stream",
     "text": [
      "1 5 6 5\n"
     ]
    }
   ],
   "source": [
    "func(1,*(5,6))"
   ]
  },
  {
   "cell_type": "code",
   "execution_count": null,
   "id": "e4ede557",
   "metadata": {},
   "outputs": [],
   "source": [
    "At the time of function call, func(1,*(5,6)) returns a=1,b takes 5\n",
    "c is reassigned value 6 & d already had value 5."
   ]
  },
  {
   "cell_type": "code",
   "execution_count": null,
   "id": "ea53b0f8",
   "metadata": {},
   "outputs": [],
   "source": [
    "6.What is the result of this, and explain?\n"
   ]
  },
  {
   "cell_type": "code",
   "execution_count": 15,
   "id": "eb3f9634",
   "metadata": {},
   "outputs": [],
   "source": [
    "def func(a,b,c):\n",
    "    a=2\n",
    "    b[0]='x'\n",
    "    c['a']='y'\n",
    "l=1\n",
    "m=[1]\n",
    "n={'a':0}\n",
    "    "
   ]
  },
  {
   "cell_type": "code",
   "execution_count": 21,
   "id": "8a075269",
   "metadata": {},
   "outputs": [
    {
     "data": {
      "text/plain": [
       "(1, ['x'], {'a': 'y'})"
      ]
     },
     "execution_count": 21,
     "metadata": {},
     "output_type": "execute_result"
    }
   ],
   "source": [
    "func(l,m,n)\n",
    "l,m,n"
   ]
  },
  {
   "cell_type": "code",
   "execution_count": null,
   "id": "5e308f2b",
   "metadata": {},
   "outputs": [],
   "source": [
    "At the time of function call,func(l,m,n) returns 1 as l is 1,['x'] as m is will give result as list & n as {'a':'y'} as n is giving \n",
    "result as dictionary."
   ]
  }
 ],
 "metadata": {
  "kernelspec": {
   "display_name": "Python 3 (ipykernel)",
   "language": "python",
   "name": "python3"
  },
  "language_info": {
   "codemirror_mode": {
    "name": "ipython",
    "version": 3
   },
   "file_extension": ".py",
   "mimetype": "text/x-python",
   "name": "python",
   "nbconvert_exporter": "python",
   "pygments_lexer": "ipython3",
   "version": "3.9.12"
  }
 },
 "nbformat": 4,
 "nbformat_minor": 5
}
